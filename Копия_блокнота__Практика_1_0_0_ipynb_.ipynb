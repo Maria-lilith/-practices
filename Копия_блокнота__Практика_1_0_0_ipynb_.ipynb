{
  "nbformat": 4,
  "nbformat_minor": 0,
  "metadata": {
    "colab": {
      "provenance": []
    },
    "kernelspec": {
      "name": "python3",
      "display_name": "Python 3"
    },
    "language_info": {
      "name": "python"
    }
  },
  "cells": [
    {
      "cell_type": "markdown",
      "source": [
        "ФИО: Новоселова Мария ( зачет 20 11 2024)"
      ],
      "metadata": {
        "id": "fLDS5f_mCnPa"
      }
    },
    {
      "cell_type": "markdown",
      "source": [
        "# Задание (совместное с преподавателем)\n",
        "\n",
        "\n"
      ],
      "metadata": {
        "id": "-CSHUbWzCqeM"
      }
    },
    {
      "cell_type": "markdown",
      "source": [
        "Напишите систему для учёта отпусков с возможностью узнавать, сколько дней отпуска осталось у того или иного сотрудника.\n",
        "Для этого создайте класс Employee со следующими методами:\n",
        "\n",
        "- Метод consume_vacation должен отвечать за списание дней отпуска.\n",
        "\n",
        "Единственный параметр этого метода (кроме self) — количество потраченных отпускных дней (целое число).\n",
        "\n",
        "При вызове метода consume_vacation соответствующее количество дней должно вычитаться из общего числа доступных отпускных дней сотрудника.\n",
        "\n",
        "Чтобы определить число доступных отпускных дней конкретного сотрудника, в классе опишите атрибут экземпляра |, который по умолчанию будет равен значению атрибута класса vacation_days, и используйте этот атрибут в работе метода.\n",
        "\n",
        "- Метод get_vacation_details должен возвращать остаток отпускных дней сотрудника в формате: ```Остаток отпускных дней: <число>.```\n",
        "\n",
        "\n",
        "Чтобы проверить работу программы:\n",
        "1. Создайте экземпляр класса Employee.\n",
        "2. Вызовите метод consume_vacation, указав подходящее значение аргумента, например 7.\n",
        "3. Вызовите метод get_vacation_details."
      ],
      "metadata": {
        "id": "a_flBjZOCwYz"
      }
    },
    {
      "cell_type": "code",
      "source": [
        "class Employee:\n",
        "    vacation_days = 28\n",
        "\n",
        "    def __init__(self, name):\n",
        "        self.name = name\n",
        "        self.remaining_vacation_days = self.vacation_days\n",
        "\n",
        "\n",
        "    def consume_vacation(self,days):\n",
        "        self.remaining_vacation_days -= days\n",
        "\n",
        "    def get_vacation_details(self):\n",
        "        return f'Остаток отпускных дней: {self.remaining_vacation_days}'\n",
        "\n",
        "\n",
        "employee = Employee('Олег')\n",
        "employee.consume_vacation(7)\n",
        "print(employee.get_vacation_details())\n"
      ],
      "metadata": {
        "id": "G4bUraN4CwBI",
        "colab": {
          "base_uri": "https://localhost:8080/"
        },
        "outputId": "d7bea881-8616-4cd9-d886-6445976f8615"
      },
      "execution_count": null,
      "outputs": [
        {
          "output_type": "stream",
          "name": "stdout",
          "text": [
            "Остаток отпускных дней: 21\n"
          ]
        }
      ]
    },
    {
      "cell_type": "markdown",
      "source": [
        "# Задание 1"
      ],
      "metadata": {
        "id": "8XGka5GtEBK1"
      }
    },
    {
      "cell_type": "markdown",
      "source": [
        "Задание:\n",
        "\n",
        "Создайте класс с именем Rectangle который имеет:\n",
        "- Атрибуты ширины и высоты.\n",
        "- Метод расчета площади.\n",
        "- Метод расчета периметра.\n",
        "- Метод отображения размеров прямоугольника.\n",
        "\n",
        "Создайте экземпляр класса Rectangleи продемонстрируйте его функциональность."
      ],
      "metadata": {
        "id": "jQ4qqd8nEZBY"
      }
    },
    {
      "cell_type": "code",
      "source": [
        "class Rectangle:\n",
        "    def __init__(self,width,height):\n",
        "        self.width = width\n",
        "        self.height = height\n",
        "\n",
        "    def area(self):\n",
        "        area=self.width*self.height\n",
        "        return f' Площадь премоугольника: {area}'\n",
        "\n",
        "    def perimeter(self):\n",
        "        perimeter=(self.width+self.height)*2\n",
        "        return f'Периметр прямоугольника: {perimeter}'\n",
        "\n",
        "    def size(self):\n",
        "        return f'Длина прямоугольника: {self.height}, Ширина прямоугольника: {self.width}'\n",
        "\n",
        "\n",
        "rectangle1 = Rectangle(5,10)\n",
        "print(rectangle1.area(),'\\n',rectangle1.perimeter(),'\\n',rectangle1.size())"
      ],
      "metadata": {
        "id": "dG6uNPqTEAvt",
        "colab": {
          "base_uri": "https://localhost:8080/"
        },
        "outputId": "163cae79-659e-42ef-80ad-007f4b3521dd"
      },
      "execution_count": null,
      "outputs": [
        {
          "output_type": "stream",
          "name": "stdout",
          "text": [
            " Площадь премоугольника: 50 \n",
            " Периметр прямоугольника: 30 \n",
            " Длина прямоугольника: 10, Ширина прямоугольника: 5\n"
          ]
        }
      ]
    },
    {
      "cell_type": "markdown",
      "source": [
        "# Задание 2"
      ],
      "metadata": {
        "id": "0ct1u6lqE73j"
      }
    },
    {
      "cell_type": "markdown",
      "source": [
        "Задание: Создайте мини версию банковской системы:\n",
        "\n",
        "\n",
        "Инструкции:\n",
        "\n",
        "1. Создайте класс BankAccountсо следующими атрибутами:\n",
        "    - account_holder -  владелец счета\n",
        "    - balance - баланс счета\n",
        "\n",
        "2. Реализуйте следующие методы:\n",
        "    - Метод для инициализации владельца счета: имя владельца счета и установите начальный баланс на 0.\n",
        "    - deposit(amount): Добавьте указанную сумму к балансу.\n",
        "    - withdraw(amount): Вычесть указанную сумму из баланса, если средств достаточно; в противном случае вывести предупреждение.\n",
        "    - get_balance(): Возврат текущего баланса.\n",
        "\n",
        "\n",
        "Создайте объект класса и продемонстрируйте его возможности"
      ],
      "metadata": {
        "id": "FOpIpcLxE-WK"
      }
    },
    {
      "cell_type": "code",
      "source": [
        "class BankAccountсо:\n",
        "    balance = 0\n",
        "    def __init__(self, account_holder):\n",
        "        self.account_holder = account_holder\n",
        "        self.your_balance = self.balance\n",
        "\n",
        "    def deposit(self, amount):\n",
        "        self.balance += amount\n",
        "\n",
        "    def withdraw(self, amount):\n",
        "        self.balance -= amount\n",
        "\n",
        "    def get_balance(self):\n",
        "        return self.balance\n",
        "\n",
        "\n",
        "bank_accountсо_1 = BankAccountсо('Вадим')\n",
        "bank_accountсо_1.deposit(int(input()))\n",
        "bank_accountсо_1.withdraw(int(input()))\n",
        "print(bank_accountсо_1.get_balance())"
      ],
      "metadata": {
        "id": "WWXNIUrCE99W",
        "colab": {
          "base_uri": "https://localhost:8080/"
        },
        "outputId": "6edf798c-1b48-4237-beb1-e03026b625a4"
      },
      "execution_count": null,
      "outputs": [
        {
          "output_type": "stream",
          "name": "stdout",
          "text": [
            "10000000\n",
            "10\n",
            "9999990\n"
          ]
        }
      ]
    },
    {
      "cell_type": "markdown",
      "source": [
        "# Задание 3"
      ],
      "metadata": {
        "id": "C5DX5Uf2FfP6"
      }
    },
    {
      "cell_type": "markdown",
      "source": [
        "Возьмите код и задание (Рыцарь и дракон) из предыдущей практики и реализуйте его с применением классов"
      ],
      "metadata": {
        "id": "0cR-MYepFgz6"
      }
    },
    {
      "cell_type": "code",
      "source": [
        "import random\n",
        "\n",
        "\n",
        "class Knights:\n",
        "    def __init__(self, name, arms, weaponry, damage, health):\n",
        "        self.name = name\n",
        "        self.arms = arms\n",
        "        self.weaponry = weaponry\n",
        "        self.damage = damage\n",
        "        self.health = health\n",
        "\n",
        "    def add_health(self, amount):\n",
        "        self.health += amount\n",
        "\n",
        "    def reduce_health(self, amount):\n",
        "        self.health -= amount\n",
        "\n",
        "    def add_damage(self, amount):\n",
        "        self.damage += amount\n",
        "\n",
        "\n",
        "class Dragon:\n",
        "    def __init__(self, name, damage, health):\n",
        "        self.name = name\n",
        "        self.damage = damage\n",
        "        self.health = health\n",
        "\n",
        "\n",
        "def fight():\n",
        "    while dragon.health > 0 and knight.health > 0:\n",
        "        dragon.health -= knight.damage\n",
        "        print(f'Вы нанесли дракону {knight.damage} урона, '\n",
        "        f'eго здоровье: {dragon.health}')\n",
        "        if dragon.health <= 0:\n",
        "            return 'Вы победили дракона!'\n",
        "        else:\n",
        "            knight.health -= dragon.damage\n",
        "            print (f'Дракон нанес вам {dragon.damage} урона, '\n",
        "            f'ваше здоровье: {knight.health}')\n",
        "            if knight.health <= 0:\n",
        "                return 'К сожалению, вы проиграли'\n",
        "\n",
        "\n",
        "dragons = ['Дрогон','Рейегаль','Визерион',' Аркон','Гидра']\n",
        "knights = ['Ариодант','Артас','Ганелон','Роланд','Фолькер','Гатс']\n",
        "armors = ['Стёганые доспехи','Кожаные доспехи','Клёпаная кожа','Кольчуга',\n",
        "          'Пластинчатые доспехи']\n",
        "weapons = ['меч','копьё','лук и стрелы','боевой топор','булава']\n",
        "\n",
        "while True:\n",
        "    knight = Knights(random.choice(knights),random.choice(armors),\n",
        "            random.choice(knights), random.randint(1,10),random.randint(30,50))\n",
        "    dragon = Dragon(random.choice(dragons),random.randint(1,10),\n",
        "                random.randint(30,50))\n",
        "    print('Добро пожаловать в мир рыцарей и драконов')\n",
        "    print('Пришло ваше время стать рыцарем! Ваш персонаж:')\n",
        "    print(f'Рыцарь: {knight.name}, доспехи: {knight.arms}, оружие: {knight.weaponry}, '\n",
        "        f'здоровье: {knight.health}, урон: {knight.damage}')\n",
        "    print('Ваш противник на сегодня:')\n",
        "    print(f'Дракон: {dragon.name}, здоровье: {dragon.health}, урон {dragon.damage}')\n",
        "    print(f'Отправляйтесь на поиски приключений!')\n",
        "    print(f'Перейдя через лес, вы выходите на небольшую поляну и видит там одинокого'\n",
        "        'воина,который потерял своë оружие и очень боится не дожить до следующего'\n",
        "        'утра. Воину требуется помощь в изготовлении нового оружия.')\n",
        "    choice = input('Помочь ему?Напишите: да или нет ')\n",
        "    if choice.lower() == 'да':\n",
        "        print('Вы помогли воину и прокачали свои навыки!(+урон)')\n",
        "        knight.add_damage(1)\n",
        "    else:\n",
        "        print('Вы продолжаете свой путь')\n",
        "\n",
        "    print('После знакомства с воином вы продолжаете свой путь, через некоторое'\n",
        "        'время вы понимаете,что солнце уже садиться и приближается ночь'\n",
        "        'Это значит, что настало время разбивать лагерь.')\n",
        "    choice = input('1. Поохотиться или 2. пойти спать?Ввведите номер выбранного варианта ')\n",
        "    if choice == '1':\n",
        "        print('Теперь вы сыты, а так как вы быстро поймали добычу, ещё осталось'\n",
        "            'время для сна. Теперь вы полны сил для новых приключений(+ здоровье)')\n",
        "        knight.add_health(8)\n",
        "    else:\n",
        "        print('Вы выспались, но уже долгое время ничего не ели, из за чего вы'\n",
        "            'не в лучшей форме(-здоровье)')\n",
        "        knight.reduce_health(5)\n",
        "\n",
        "    print(' На следующий день вы выходите к окраине небольшого городка и видите '\n",
        "        'таверну. Вы заходите туда. Хозяин таверны просит вас доставить важные'\n",
        "        'послания.')\n",
        "    choice = input('Помочь ему?Напишите: да или нет ')\n",
        "    if choice.lower() == 'да':\n",
        "        print('Вы потратили много сил на это задание(-здоровье)')\n",
        "        knight.reduce_health(4)\n",
        "    else:\n",
        "        print('Вы продолжаете свой путь')\n",
        "\n",
        "    print('Вы подходите к горам,в которых по легендам водятся драконы.'\n",
        "        'Перед собой вы видите 2 дороги')\n",
        "    choice = input('Куда пойти 1. направо или 2. налево?'\n",
        "                'Ввведите номер выбранного варианта ' )\n",
        "    if choice == '1':\n",
        "        print('Вы проходите через святой источник, испив оттуда воды, '\n",
        "            'вы чувствуете, как энергия наполняет вас (+ здоровье)')\n",
        "        knight.add_health(7)\n",
        "    else:\n",
        "        print('Вся тропа густо заросла растениями, вам пришлось срубить некоторые'\n",
        "            'из них, тем самым отточив свои навыки(+урон)')\n",
        "        knight.add_damage(2)\n",
        "    print('Легенды не врут! На вашем пути встречается дракон. Вы вступаете в схватку....')\n",
        "    print(fight())\n",
        "\n",
        "    choice = input(f'1. Начать игру заново \\n2. Выйти из игры \\nВвведите номер выбранного варианта ')\n",
        "    if choice == '2':\n",
        "        break\n"
      ],
      "metadata": {
        "id": "Oz9BZbhAFwua",
        "colab": {
          "base_uri": "https://localhost:8080/",
          "height": 998
        },
        "outputId": "cf0c4606-2024-47d5-a290-8709e27eb26b"
      },
      "execution_count": null,
      "outputs": [
        {
          "output_type": "stream",
          "name": "stdout",
          "text": [
            "Добро пожаловать в мир рыцарей и драконов\n",
            "Пришло ваше время стать рыцарем! Ваш персонаж:\n",
            "Рыцарь: Гатс, доспехи: Кольчуга, оружие: Артас, здоровье: 31, урон: 4\n",
            "Ваш противник на сегодня:\n",
            "Дракон: Визерион, здоровье: 43, урон 5\n",
            "Отправляйтесь на поиски приключений!\n",
            "Перейдя через лес, вы выходите на небольшую поляну и видит там одинокоговоина,который потерял своë оружие и очень боится не дожить до следующегоутра. Воину требуется помощь в изготовлении нового оружия.\n",
            "Помочь ему?Напишите: да или нет да\n",
            "Вы помогли воину и прокачали свои навыки!(+урон)\n",
            "После знакомства с воином вы продолжаете свой путь, через некотороевремя вы понимаете,что солнце уже садиться и приближается ночьЭто значит, что настало время разбивать лагерь.\n",
            "1. Поохотиться или 2. пойти спать?Ввведите номер выбранного варианта 1\n",
            "Теперь вы сыты, а так как вы быстро поймали добычу, ещё осталосьвремя для сна. Теперь вы полны сил для новых приключений(+ здоровье)\n",
            " На следующий день вы выходите к окраине небольшого городка и видите таверну. Вы заходите туда. Хозяин таверны просит вас доставить важныепослания.\n",
            "Помочь ему?Напишите: да или нет да\n",
            "Вы потратили много сил на это задание(-здоровье)\n",
            "Вы подходите к горам,в которых по легендам водятся драконы.Перед собой вы видите 2 дороги\n",
            "Куда пойти 1. направо или 2. налево?Ввведите номер выбранного варианта 1\n",
            "Вы проходите через святой источник, испив оттуда воды, вы чувствуете, как энергия наполняет вас (+ здоровье)\n",
            "Легенды не врут! На вашем пути встречается дракон. Вы вступаете в схватку....\n",
            "Вы нанесли дракону 5 урона, eго здоровье: 38\n",
            "Дракон нанес вам 5 урона, ваше здоровье: 37\n",
            "Вы нанесли дракону 5 урона, eго здоровье: 33\n",
            "Дракон нанес вам 5 урона, ваше здоровье: 32\n",
            "Вы нанесли дракону 5 урона, eго здоровье: 28\n",
            "Дракон нанес вам 5 урона, ваше здоровье: 27\n",
            "Вы нанесли дракону 5 урона, eго здоровье: 23\n",
            "Дракон нанес вам 5 урона, ваше здоровье: 22\n",
            "Вы нанесли дракону 5 урона, eго здоровье: 18\n",
            "Дракон нанес вам 5 урона, ваше здоровье: 17\n",
            "Вы нанесли дракону 5 урона, eго здоровье: 13\n",
            "Дракон нанес вам 5 урона, ваше здоровье: 12\n",
            "Вы нанесли дракону 5 урона, eго здоровье: 8\n",
            "Дракон нанес вам 5 урона, ваше здоровье: 7\n",
            "Вы нанесли дракону 5 урона, eго здоровье: 3\n",
            "Дракон нанес вам 5 урона, ваше здоровье: 2\n",
            "Вы нанесли дракону 5 урона, eго здоровье: -2\n",
            "Вы победили дракона!\n"
          ]
        },
        {
          "output_type": "error",
          "ename": "KeyboardInterrupt",
          "evalue": "Interrupted by user",
          "traceback": [
            "\u001b[0;31m---------------------------------------------------------------------------\u001b[0m",
            "\u001b[0;31mKeyboardInterrupt\u001b[0m                         Traceback (most recent call last)",
            "\u001b[0;32m<ipython-input-27-b25bbcee4333>\u001b[0m in \u001b[0;36m<cell line: 50>\u001b[0;34m()\u001b[0m\n\u001b[1;32m    108\u001b[0m     \u001b[0mprint\u001b[0m\u001b[0;34m(\u001b[0m\u001b[0mfight\u001b[0m\u001b[0;34m(\u001b[0m\u001b[0;34m)\u001b[0m\u001b[0;34m)\u001b[0m\u001b[0;34m\u001b[0m\u001b[0;34m\u001b[0m\u001b[0m\n\u001b[1;32m    109\u001b[0m \u001b[0;34m\u001b[0m\u001b[0m\n\u001b[0;32m--> 110\u001b[0;31m     \u001b[0mchoice\u001b[0m \u001b[0;34m=\u001b[0m \u001b[0minput\u001b[0m\u001b[0;34m(\u001b[0m\u001b[0;34mf'1. Начать игру заново \\n2. Выйти из игры \\nВвведите номер выбранного варианта '\u001b[0m\u001b[0;34m)\u001b[0m\u001b[0;34m\u001b[0m\u001b[0;34m\u001b[0m\u001b[0m\n\u001b[0m\u001b[1;32m    111\u001b[0m     \u001b[0;32mif\u001b[0m \u001b[0mchoice\u001b[0m \u001b[0;34m==\u001b[0m \u001b[0;34m'2'\u001b[0m\u001b[0;34m:\u001b[0m\u001b[0;34m\u001b[0m\u001b[0;34m\u001b[0m\u001b[0m\n\u001b[1;32m    112\u001b[0m         \u001b[0;32mbreak\u001b[0m\u001b[0;34m\u001b[0m\u001b[0;34m\u001b[0m\u001b[0m\n",
            "\u001b[0;32m/usr/local/lib/python3.10/dist-packages/ipykernel/kernelbase.py\u001b[0m in \u001b[0;36mraw_input\u001b[0;34m(self, prompt)\u001b[0m\n\u001b[1;32m    849\u001b[0m                 \u001b[0;34m\"raw_input was called, but this frontend does not support input requests.\"\u001b[0m\u001b[0;34m\u001b[0m\u001b[0;34m\u001b[0m\u001b[0m\n\u001b[1;32m    850\u001b[0m             )\n\u001b[0;32m--> 851\u001b[0;31m         return self._input_request(str(prompt),\n\u001b[0m\u001b[1;32m    852\u001b[0m             \u001b[0mself\u001b[0m\u001b[0;34m.\u001b[0m\u001b[0m_parent_ident\u001b[0m\u001b[0;34m,\u001b[0m\u001b[0;34m\u001b[0m\u001b[0;34m\u001b[0m\u001b[0m\n\u001b[1;32m    853\u001b[0m             \u001b[0mself\u001b[0m\u001b[0;34m.\u001b[0m\u001b[0m_parent_header\u001b[0m\u001b[0;34m,\u001b[0m\u001b[0;34m\u001b[0m\u001b[0;34m\u001b[0m\u001b[0m\n",
            "\u001b[0;32m/usr/local/lib/python3.10/dist-packages/ipykernel/kernelbase.py\u001b[0m in \u001b[0;36m_input_request\u001b[0;34m(self, prompt, ident, parent, password)\u001b[0m\n\u001b[1;32m    893\u001b[0m             \u001b[0;32mexcept\u001b[0m \u001b[0mKeyboardInterrupt\u001b[0m\u001b[0;34m:\u001b[0m\u001b[0;34m\u001b[0m\u001b[0;34m\u001b[0m\u001b[0m\n\u001b[1;32m    894\u001b[0m                 \u001b[0;31m# re-raise KeyboardInterrupt, to truncate traceback\u001b[0m\u001b[0;34m\u001b[0m\u001b[0;34m\u001b[0m\u001b[0m\n\u001b[0;32m--> 895\u001b[0;31m                 \u001b[0;32mraise\u001b[0m \u001b[0mKeyboardInterrupt\u001b[0m\u001b[0;34m(\u001b[0m\u001b[0;34m\"Interrupted by user\"\u001b[0m\u001b[0;34m)\u001b[0m \u001b[0;32mfrom\u001b[0m \u001b[0;32mNone\u001b[0m\u001b[0;34m\u001b[0m\u001b[0;34m\u001b[0m\u001b[0m\n\u001b[0m\u001b[1;32m    896\u001b[0m             \u001b[0;32mexcept\u001b[0m \u001b[0mException\u001b[0m \u001b[0;32mas\u001b[0m \u001b[0me\u001b[0m\u001b[0;34m:\u001b[0m\u001b[0;34m\u001b[0m\u001b[0;34m\u001b[0m\u001b[0m\n\u001b[1;32m    897\u001b[0m                 \u001b[0mself\u001b[0m\u001b[0;34m.\u001b[0m\u001b[0mlog\u001b[0m\u001b[0;34m.\u001b[0m\u001b[0mwarning\u001b[0m\u001b[0;34m(\u001b[0m\u001b[0;34m\"Invalid Message:\"\u001b[0m\u001b[0;34m,\u001b[0m \u001b[0mexc_info\u001b[0m\u001b[0;34m=\u001b[0m\u001b[0;32mTrue\u001b[0m\u001b[0;34m)\u001b[0m\u001b[0;34m\u001b[0m\u001b[0;34m\u001b[0m\u001b[0m\n",
            "\u001b[0;31mKeyboardInterrupt\u001b[0m: Interrupted by user"
          ]
        }
      ]
    },
    {
      "cell_type": "markdown",
      "source": [
        "# Дополнительное задание\n"
      ],
      "metadata": {
        "id": "b_mJHXcQGI9t"
      }
    },
    {
      "cell_type": "markdown",
      "source": [
        "Задача: Система управления библиотекой\n",
        "\n",
        "**Цель**\n",
        "Создайте простую систему управления библиотекой, которая позволит пользователям добавлять книги, брать книги, возвращать книги и просматривать список доступных книг.\n",
        "\n",
        "**Требования**\n",
        "\n",
        "1. **Определение класса**:\n",
        "   – Создайте класс с именем «Book» со следующими атрибутами:\n",
        "     - `title`\n",
        "     - `автор`\n",
        "     - `isbn`\n",
        "     - `is_borrowed` (по умолчанию `False`)\n",
        "\n",
        "2. **Класс библиотеки**:\n",
        "   - Создайте класс с именем Library, который управляет коллекцией книг.\n",
        "   - Класс должен иметь следующие методы:\n",
        "     - `__init__(self)`: инициализирует пустой список книг.\n",
        "     - `add_book(self, book: Book)`: добавляет новую книгу в библиотеку.\n",
        "     - `borrow_book(self, isbn: str)`: помечает книгу как заимствованную. Если книга не найдена или уже взята, выведите соответствующее сообщение.\n",
        "     - `return_book(self, isbn: str)`: помечает книгу как возвращенную. Если книга не найдена или не была взята взаймы, выведите соответствующее сообщение.\n",
        "     - `list_available_books(self)`: печатает список всех доступных книг в библиотеке.\n",
        "     - `find_book(self, isbn: str)`: возвращает объект книги, если он найден, в противном случае возвращает `None`.\n",
        "\n",
        "3. **Взаимодействие с пользователем**:\n",
        "   - Создайте простое текстовое меню, которое позволит пользователям:\n",
        "     - Добавить книгу\n",
        "     - Одолжить книгу\n",
        "     - Вернуть книгу\n",
        "     - Список доступных книг\n",
        "     - Выйти из программы"
      ],
      "metadata": {
        "id": "pnIUdFPcGOVL"
      }
    },
    {
      "cell_type": "code",
      "source": [],
      "metadata": {
        "id": "GKKmdfN8GL6f"
      },
      "execution_count": null,
      "outputs": []
    }
  ]
}